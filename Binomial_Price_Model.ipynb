{
  "nbformat": 4,
  "nbformat_minor": 0,
  "metadata": {
    "colab": {
      "name": "Binomial Price Model.ipynb",
      "provenance": []
    },
    "kernelspec": {
      "name": "python3",
      "display_name": "Python 3"
    },
    "language_info": {
      "name": "python"
    }
  },
  "cells": [
    {
      "cell_type": "markdown",
      "source": [
        "## Binomial Asset Pricing\n"
      ],
      "metadata": {
        "id": "7LEShbFCIJxB"
      }
    },
    {
      "cell_type": "code",
      "source": [
        "## implementation of the simple slow and fast binomial pricing model in python.\n",
        "## treat the binomial tree as a network with nodes(i,j) where i = time steps\n",
        "## j = number of ordered price outcome(lowest - or bottom of the tree to highest)"
      ],
      "metadata": {
        "id": "1kkZnc2IIHxS"
      },
      "execution_count": 1,
      "outputs": []
    },
    {
      "cell_type": "code",
      "source": [
        "import numpy as np\n"
      ],
      "metadata": {
        "id": "Pvw2qw9uIHz4"
      },
      "execution_count": 2,
      "outputs": []
    },
    {
      "cell_type": "markdown",
      "source": [
        "## Generic Time Wrapper Function"
      ],
      "metadata": {
        "id": "SKrSooWdI0gG"
      }
    },
    {
      "cell_type": "code",
      "source": [
        "from functools import wraps\n",
        "from time import time\n",
        "\n",
        "def timing(f):\n",
        "  @wraps(f)\n",
        "  def wrap(*args, **kw):\n",
        "    ts = time()\n",
        "    result = f(*args, **kw)\n",
        "    te = time()\n",
        "    print(\"func:%r args:[%r, %r] took: %2.4f sec\" % (f.__name__, args, kw, te-ts))\n",
        "    return result\n",
        "  return wrap"
      ],
      "metadata": {
        "id": "lyzxJV9TIH3S"
      },
      "execution_count": 5,
      "outputs": []
    },
    {
      "cell_type": "markdown",
      "source": [
        "## Binomial Tree Representation"
      ],
      "metadata": {
        "id": "ZvufaO5tKTnV"
      }
    },
    {
      "cell_type": "code",
      "source": [
        "# Intialise parameters\n",
        "S0 = 100  # initial stock price\n",
        "K = 100   # strike price\n",
        "T = 1     # time to maturity in year\n",
        "r = 0.06  # interest rate (risk-free)\n",
        "N = 3     # number of time steps\n",
        "u = 1.1   # up-factor in binomial models\n",
        "d = 1/u   # ensure recombining tree (down-factor)\n",
        "opttype = 'C'  # Option Type 'C' or 'P'"
      ],
      "metadata": {
        "id": "Mc_KisPIIIHS"
      },
      "execution_count": 6,
      "outputs": []
    },
    {
      "cell_type": "markdown",
      "source": [
        "## Binomial Tree Slow"
      ],
      "metadata": {
        "id": "1nuuuv2qNeBW"
      }
    },
    {
      "cell_type": "code",
      "source": [
        "@timing\n",
        "def binomial_tree_slow(K,T,S0,r,N,u,d,opttype='C'):\n",
        "    #precompute constants\n",
        "    dt = T/N\n",
        "    q = (np.exp(r*dt) - d) / (u-d)\n",
        "    disc = np.exp(-r*dt)\n",
        "    \n",
        "    # initialise asset prices at maturity - Time step N\n",
        "    S = np.zeros(N+1)\n",
        "    S[0] = S0*d**N\n",
        "    for j in range(1,N+1):\n",
        "        S[j] = S[j-1]*u/d\n",
        "    \n",
        "    # initialise option values at maturity\n",
        "    C = np.zeros(N+1)\n",
        "    for j in range(0,N+1):\n",
        "        C[j] = max(0, S[j]-K)\n",
        "        \n",
        "    # step backwards through tree\n",
        "    for i in np.arange(N,0,-1):\n",
        "        for j in range(0,i):\n",
        "            C[j] = disc * ( q*C[j+1] + (1-q)*C[j] )\n",
        "    \n",
        "    return C[0]\n",
        "\n",
        "binomial_tree_slow(K,T,S0,r,N,u,d,opttype='C')"
      ],
      "metadata": {
        "colab": {
          "base_uri": "https://localhost:8080/"
        },
        "id": "hmPrb4z-KY32",
        "outputId": "df698dd3-c75f-4e24-c40d-1a8f3d7693b0"
      },
      "execution_count": 11,
      "outputs": [
        {
          "output_type": "stream",
          "name": "stdout",
          "text": [
            "func:'binomial_tree_slow' args:[(100, 1, 100, 0.06, 3, 1.1, 0.9090909090909091), {'opttype': 'C'}] took: 0.0001 sec\n"
          ]
        },
        {
          "output_type": "execute_result",
          "data": {
            "text/plain": [
              "10.145735799928817"
            ]
          },
          "metadata": {},
          "execution_count": 11
        }
      ]
    },
    {
      "cell_type": "markdown",
      "source": [
        "## Binomial Tree Fast"
      ],
      "metadata": {
        "id": "DDF9L907NhiQ"
      }
    },
    {
      "cell_type": "code",
      "source": [
        "@timing\n",
        "def binomial_tree_fast(K,T,S0,r,N,u,d,opttype='C'):\n",
        "    #precompute constants\n",
        "    dt = T/N\n",
        "    q = (np.exp(r*dt) - d) / (u-d)\n",
        "    disc = np.exp(-r*dt)\n",
        "    \n",
        "    # initialise asset prices at maturity - Time step N\n",
        "    C = S0 * d ** (np.arange(N,-1,-1)) * u ** (np.arange(0,N+1,1)) \n",
        "    \n",
        "    # initialise option values at maturity\n",
        "    C = np.maximum( C - K , np.zeros(N+1) )\n",
        "        \n",
        "    # step backwards through tree\n",
        "    for i in np.arange(N,0,-1):\n",
        "        C = disc * ( q * C[1:i+1] + (1-q) * C[0:i] )\n",
        "    \n",
        "    return C[0]\n",
        "\n",
        "binomial_tree_fast(K,T,S0,r,N,u,d,opttype='C')"
      ],
      "metadata": {
        "colab": {
          "base_uri": "https://localhost:8080/"
        },
        "id": "-ZaTEp3DKY67",
        "outputId": "b2184fe4-7bd4-4b6f-e25b-1bded0f35b70"
      },
      "execution_count": 12,
      "outputs": [
        {
          "output_type": "stream",
          "name": "stdout",
          "text": [
            "func:'binomial_tree_fast' args:[(100, 1, 100, 0.06, 3, 1.1, 0.9090909090909091), {'opttype': 'C'}] took: 0.0014 sec\n"
          ]
        },
        {
          "output_type": "execute_result",
          "data": {
            "text/plain": [
              "10.145735799928826"
            ]
          },
          "metadata": {},
          "execution_count": 12
        }
      ]
    },
    {
      "cell_type": "code",
      "source": [
        "for N in [3,50, 100, 1000, 5000]:\n",
        "    binomial_tree_slow(K,T,S0,r,N,u,d,opttype='C')\n",
        "    binomial_tree_fast(K,T,S0,r,N,u,d,opttype='C')"
      ],
      "metadata": {
        "colab": {
          "base_uri": "https://localhost:8080/"
        },
        "id": "m9yFSGnYKY-a",
        "outputId": "db187019-806d-4458-f0d1-2fcfd2d03cb4"
      },
      "execution_count": 13,
      "outputs": [
        {
          "output_type": "stream",
          "name": "stdout",
          "text": [
            "func:'binomial_tree_slow' args:[(100, 1, 100, 0.06, 3, 1.1, 0.9090909090909091), {'opttype': 'C'}] took: 0.0002 sec\n",
            "func:'binomial_tree_fast' args:[(100, 1, 100, 0.06, 3, 1.1, 0.9090909090909091), {'opttype': 'C'}] took: 0.0002 sec\n",
            "func:'binomial_tree_slow' args:[(100, 1, 100, 0.06, 50, 1.1, 0.9090909090909091), {'opttype': 'C'}] took: 0.0050 sec\n",
            "func:'binomial_tree_fast' args:[(100, 1, 100, 0.06, 50, 1.1, 0.9090909090909091), {'opttype': 'C'}] took: 0.0006 sec\n",
            "func:'binomial_tree_slow' args:[(100, 1, 100, 0.06, 100, 1.1, 0.9090909090909091), {'opttype': 'C'}] took: 0.0060 sec\n",
            "func:'binomial_tree_fast' args:[(100, 1, 100, 0.06, 100, 1.1, 0.9090909090909091), {'opttype': 'C'}] took: 0.0009 sec\n",
            "func:'binomial_tree_slow' args:[(100, 1, 100, 0.06, 1000, 1.1, 0.9090909090909091), {'opttype': 'C'}] took: 0.5796 sec\n",
            "func:'binomial_tree_fast' args:[(100, 1, 100, 0.06, 1000, 1.1, 0.9090909090909091), {'opttype': 'C'}] took: 0.0086 sec\n",
            "func:'binomial_tree_slow' args:[(100, 1, 100, 0.06, 5000, 1.1, 0.9090909090909091), {'opttype': 'C'}] took: 14.3610 sec\n",
            "func:'binomial_tree_fast' args:[(100, 1, 100, 0.06, 5000, 1.1, 0.9090909090909091), {'opttype': 'C'}] took: 0.0726 sec\n"
          ]
        }
      ]
    }
  ]
}